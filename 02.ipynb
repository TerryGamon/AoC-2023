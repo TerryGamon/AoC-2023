{
 "cells": [
  {
   "cell_type": "code",
   "execution_count": 12,
   "metadata": {},
   "outputs": [],
   "source": [
    "import pandas as pd\n",
    "import re"
   ]
  },
  {
   "cell_type": "markdown",
   "metadata": {},
   "source": [
    "# Part 1"
   ]
  },
  {
   "cell_type": "code",
   "execution_count": 22,
   "metadata": {},
   "outputs": [],
   "source": [
    "lookingfor ={\n",
    "    12: 'red',\n",
    "    13: 'green',\n",
    "    14: 'blue'\n",
    "}"
   ]
  },
  {
   "cell_type": "code",
   "execution_count": 23,
   "metadata": {},
   "outputs": [],
   "source": [
    "#12 red cubes, 13 green cubes, and 14 blue\n",
    "\n",
    "def get_key_for_color(color):\n",
    "    for key, value in lookingfor.items():\n",
    "        if value == color:\n",
    "            return key\n",
    "    return None\n",
    "\n"
   ]
  },
  {
   "cell_type": "code",
   "execution_count": 42,
   "metadata": {},
   "outputs": [
    {
     "name": "stdout",
     "output_type": "stream",
     "text": [
      "2600\n"
     ]
    }
   ],
   "source": [
    "lsg = 0\n",
    "with open('input.txt', 'r') as file:\n",
    "    for line in file:\n",
    "      weiter = True\n",
    "      rawline = line.split(':')\n",
    "      game = rawline[0]\n",
    "      game = int(re.findall(r'\\d+', game)[0])\n",
    "      sets = rawline[1]\n",
    "      sets = sets.split(';')\n",
    "      for nrset, set in enumerate(sets):\n",
    "         colors = set.split(',')\n",
    "         for appearance, colorvalue in enumerate(colors):\n",
    "            color = re.findall(r'\\w+$', colorvalue)[0]\n",
    "            value = int(re.findall(r'\\d+', colorvalue)[0])\n",
    "            if get_key_for_color(color) < value:\n",
    "               weiter = False\n",
    "            else:\n",
    "               pass\n",
    "               #print('Game:',game, 'Set:',nrset,'Appearance:', appearance, 'Color:',color, 'Value:',value)\n",
    "      if weiter == True:\n",
    "         lsg +=game\n",
    "print(lsg)"
   ]
  },
  {
   "cell_type": "markdown",
   "metadata": {},
   "source": [
    "# Part 2"
   ]
  },
  {
   "cell_type": "code",
   "execution_count": null,
   "metadata": {},
   "outputs": [],
   "source": [
    "lsg = 0\n",
    "with open('input.txt', 'r') as file:\n",
    "    for line in file:\n",
    "      weiter = True\n",
    "      rawline = line.split(':')\n",
    "      game = rawline[0]\n",
    "      game = int(re.findall(r'\\d+', game)[0])\n",
    "      sets = rawline[1]\n",
    "      sets = sets.split(';')\n",
    "      for nrset, set in enumerate(sets):\n",
    "         colors = set.split(',')\n",
    "         for appearance, colorvalue in enumerate(colors):\n",
    "            color = re.findall(r'\\w+$', colorvalue)[0]\n",
    "            value = int(re.findall(r'\\d+', colorvalue)[0])\n",
    "            if get_key_for_color(color) < value:\n",
    "               weiter = False\n",
    "            else:\n",
    "               print('Game:',game, 'Set:',nrset,'Appearance:', appearance, 'Color:',color, 'Value:',value)\n",
    "      if weiter == True:\n",
    "         lsg +=game\n",
    "print(lsg)"
   ]
  },
  {
   "cell_type": "code",
   "execution_count": 43,
   "metadata": {},
   "outputs": [
    {
     "name": "stdout",
     "output_type": "stream",
     "text": [
      "86036\n"
     ]
    }
   ],
   "source": [
    "lsg = 0\n",
    "with open('input.txt', 'r') as file:\n",
    "    for line in file:\n",
    "      weiter = True\n",
    "      rawline = line.split(':')\n",
    "      game = rawline[0]\n",
    "      game = int(re.findall(r'\\d+', game)[0])\n",
    "      sets = rawline[1]\n",
    "      sets = sets.split(';')\n",
    "      red = 0\n",
    "      green = 0\n",
    "      blue = 0\n",
    "      for nrset, set in enumerate(sets):\n",
    "        colors = set.split(',')\n",
    "        for appearance, colorvalue in enumerate(colors):\n",
    "            color = re.findall(r'\\w+$', colorvalue)[0]\n",
    "            value = int(re.findall(r'\\d+', colorvalue)[0])\n",
    "            if color == 'red':\n",
    "                if value > red:\n",
    "                   red = value\n",
    "            if color == 'blue':\n",
    "                if value > blue:\n",
    "                   blue = value\n",
    "            if color == 'green':\n",
    "                if value > green:\n",
    "                   green = value\n",
    "      lsg = lsg + red * blue * green\n",
    "print(lsg)"
   ]
  },
  {
   "cell_type": "code",
   "execution_count": null,
   "metadata": {},
   "outputs": [],
   "source": []
  }
 ],
 "metadata": {
  "kernelspec": {
   "display_name": "Python 3",
   "language": "python",
   "name": "python3"
  },
  "language_info": {
   "codemirror_mode": {
    "name": "ipython",
    "version": 3
   },
   "file_extension": ".py",
   "mimetype": "text/x-python",
   "name": "python",
   "nbconvert_exporter": "python",
   "pygments_lexer": "ipython3",
   "version": "3.10.6"
  }
 },
 "nbformat": 4,
 "nbformat_minor": 2
}
