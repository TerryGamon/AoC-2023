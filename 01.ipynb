{
 "cells": [
  {
   "cell_type": "code",
   "execution_count": 2,
   "metadata": {},
   "outputs": [],
   "source": [
    "def calculate_calibration_sum(file_path):\n",
    "    total_sum = 0\n",
    "\n",
    "    with open(file_path, 'r') as file:\n",
    "        for line in file:\n",
    "            digits = [char for char in line if char.isdigit()]\n",
    "            if digits:\n",
    "                first_digit = digits[0]\n",
    "                last_digit = digits[-1]\n",
    "                calibration_value = int(first_digit + last_digit)\n",
    "                total_sum += calibration_value\n",
    "\n",
    "    return total_sum\n"
   ]
  },
  {
   "cell_type": "code",
   "execution_count": 3,
   "metadata": {},
   "outputs": [
    {
     "data": {
      "text/plain": [
       "54630"
      ]
     },
     "execution_count": 3,
     "metadata": {},
     "output_type": "execute_result"
    }
   ],
   "source": [
    "calculate_calibration_sum('input.txt')"
   ]
  },
  {
   "cell_type": "code",
   "execution_count": 3,
   "metadata": {},
   "outputs": [],
   "source": [
    "\n",
    "LETTERS_TO_DIGITS = {\n",
    "    \"one\": 1,\n",
    "    \"two\": 2,\n",
    "    \"three\": 3,\n",
    "    \"four\": 4,\n",
    "    \"five\": 5,\n",
    "    \"six\": 6,\n",
    "    \"seven\": 7,\n",
    "    \"eight\": 8,\n",
    "    \"nine\": 9,\n",
    "}\n",
    "\n",
    "\n",
    "def get_calibration_sum(lines: list[str]) -> int:\n",
    "    calibration_sum = 0\n",
    "\n",
    "    for line in lines:\n",
    "        first_number, last_number = None, None\n",
    "\n",
    "        for i, char in enumerate(line):\n",
    "            if char.isdigit():\n",
    "                if first_number is None:\n",
    "                    first_number = int(char)\n",
    "                last_number = int(char)\n",
    "            else:\n",
    "                if i < len(line) - 2 and line[i:i+3] in LETTERS_TO_DIGITS:\n",
    "                    if first_number is None:\n",
    "                        first_number = LETTERS_TO_DIGITS[line[i:i+3]]\n",
    "                    last_number = LETTERS_TO_DIGITS[line[i:i+3]]\n",
    "                    continue\n",
    "                if i < len(line) - 3 and line[i:i+4] in LETTERS_TO_DIGITS:\n",
    "                    if first_number is None:\n",
    "                        first_number = LETTERS_TO_DIGITS[line[i:i+4]]\n",
    "                    last_number = LETTERS_TO_DIGITS[line[i:i+4]]\n",
    "                    continue\n",
    "                if i < len(line) - 4 and line[i:i+5] in LETTERS_TO_DIGITS:\n",
    "                    if first_number is None:\n",
    "                        first_number = LETTERS_TO_DIGITS[line[i:i+5]]\n",
    "                    last_number = LETTERS_TO_DIGITS[line[i:i+5]]\n",
    "                    continue\n",
    "\n",
    "        calibration_sum += int(f\"{first_number}{last_number}\") if first_number and last_number else 0\n",
    "    return calibration_sum\n",
    "\n",
    "\n",
    "def main() -> None:\n",
    "    with open(\"./input.txt\", \"r\", encoding=\"utf-8\") as f:\n",
    "        print(get_calibration_sum(f.readlines()))\n",
    "\n"
   ]
  },
  {
   "cell_type": "code",
   "execution_count": 4,
   "metadata": {},
   "outputs": [
    {
     "name": "stdout",
     "output_type": "stream",
     "text": [
      "54770\n"
     ]
    }
   ],
   "source": [
    "main()"
   ]
  },
  {
   "cell_type": "code",
   "execution_count": null,
   "metadata": {},
   "outputs": [],
   "source": []
  }
 ],
 "metadata": {
  "kernelspec": {
   "display_name": "Python 3",
   "language": "python",
   "name": "python3"
  },
  "language_info": {
   "codemirror_mode": {
    "name": "ipython",
    "version": 3
   },
   "file_extension": ".py",
   "mimetype": "text/x-python",
   "name": "python",
   "nbconvert_exporter": "python",
   "pygments_lexer": "ipython3",
   "version": "3.10.6"
  }
 },
 "nbformat": 4,
 "nbformat_minor": 2
}
