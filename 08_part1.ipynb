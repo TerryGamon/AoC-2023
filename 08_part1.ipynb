{
 "cells": [
  {
   "cell_type": "code",
   "execution_count": 1,
   "metadata": {},
   "outputs": [],
   "source": [
    "import pandas as pd"
   ]
  },
  {
   "cell_type": "code",
   "execution_count": 82,
   "metadata": {},
   "outputs": [],
   "source": [
    "raw = open(\"input.txt\").read().strip().split(\"\\n\")"
   ]
  },
  {
   "cell_type": "code",
   "execution_count": 88,
   "metadata": {},
   "outputs": [
    {
     "name": "stdout",
     "output_type": "stream",
     "text": [
      "14893\n"
     ]
    }
   ],
   "source": [
    "instructions = raw[0]\n",
    "maps = raw[2:]\n",
    "\n",
    "ergebnis = {}\n",
    "for item in maps:\n",
    "    key, value = item.split('=')\n",
    "    elements = value.strip(' ()').split(', ')\n",
    "    ergebnis[key.strip()] = elements\n",
    "\n",
    "instructions = [0 if char == 'L' else 1 for char in instructions]\n",
    "multiple_instructions = instructions\n",
    "\n",
    "key_to_find = 'AAA'\n",
    "weiter = True\n",
    "zaehler = 0\n",
    "while weiter:\n",
    "    if key_to_find in ergebnis:\n",
    "        elements = ergebnis[key_to_find]\n",
    "    instruction = multiple_instructions[zaehler]\n",
    "    key_to_find = elements[instruction]\n",
    "    if key_to_find == 'ZZZ':\n",
    "        weiter = False\n",
    "\n",
    "    if zaehler == len(multiple_instructions)-1:\n",
    "        multiple_instructions = multiple_instructions + instructions\n",
    "    zaehler+=1\n",
    "print(zaehler)"
   ]
  },
  {
   "cell_type": "code",
   "execution_count": null,
   "metadata": {},
   "outputs": [],
   "source": []
  }
 ],
 "metadata": {
  "kernelspec": {
   "display_name": "Python 3",
   "language": "python",
   "name": "python3"
  },
  "language_info": {
   "codemirror_mode": {
    "name": "ipython",
    "version": 3
   },
   "file_extension": ".py",
   "mimetype": "text/x-python",
   "name": "python",
   "nbconvert_exporter": "python",
   "pygments_lexer": "ipython3",
   "version": "3.10.6"
  }
 },
 "nbformat": 4,
 "nbformat_minor": 2
}
