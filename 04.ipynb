{
 "cells": [
  {
   "cell_type": "code",
   "execution_count": 41,
   "metadata": {},
   "outputs": [],
   "source": [
    "import re"
   ]
  },
  {
   "cell_type": "markdown",
   "metadata": {},
   "source": [
    "# Part 1"
   ]
  },
  {
   "cell_type": "code",
   "execution_count": 42,
   "metadata": {},
   "outputs": [
    {
     "name": "stdout",
     "output_type": "stream",
     "text": [
      "23750\n"
     ]
    }
   ],
   "source": [
    "cards = open(\"input.txt\").read().strip().split(\"\\n\")\n",
    "ergebnis = 0\n",
    "for card in cards:\n",
    "    card = card.split(':')\n",
    "    numbers = card[1].split('|')\n",
    "    winning = numbers[0].strip()\n",
    "    winning = re.split('\\s+', winning)\n",
    "    mynumbers = numbers[1].strip()\n",
    "    mynumbers = re.split('\\s+', mynumbers)\n",
    "\n",
    "    common_elements = set(mynumbers) & set(winning)\n",
    "    count_common_elements = len(common_elements)\n",
    "    if count_common_elements == 0:\n",
    "        teilergebnis = 0\n",
    "    else:\n",
    "        teilergebnis =  2**(count_common_elements-1)\n",
    "    ergebnis = ergebnis + teilergebnis\n",
    "    \n",
    "print(ergebnis)  "
   ]
  },
  {
   "cell_type": "markdown",
   "metadata": {},
   "source": [
    "# Part 2"
   ]
  },
  {
   "cell_type": "code",
   "execution_count": 44,
   "metadata": {},
   "outputs": [
    {
     "name": "stdout",
     "output_type": "stream",
     "text": [
      "13261850\n"
     ]
    }
   ],
   "source": [
    "cards = open(\"input.txt\").read().strip().split(\"\\n\")\n",
    "\n",
    "vorhersage = [1] * 11\n",
    "ergebnis = 0\n",
    "for card in cards:\n",
    "    diese_karte = vorhersage[0]\n",
    "    ergebnis = ergebnis + diese_karte\n",
    "    card = card.split(':')\n",
    "    numbers = card[1].split('|')\n",
    "    winning = numbers[0].strip()\n",
    "    winning = re.split('\\s+', winning)\n",
    "    mynumbers = numbers[1].strip()\n",
    "    mynumbers = re.split('\\s+', mynumbers)\n",
    "\n",
    "    common_elements = set(mynumbers) & set(winning)\n",
    "    count_common_elements = len(common_elements)\n",
    "    for x in range(1,count_common_elements+1):\n",
    "        vorhersage[x] = vorhersage[x] + 1* diese_karte\n",
    "    del vorhersage[0]\n",
    "    vorhersage.append(1)\n",
    "print(ergebnis)"
   ]
  }
 ],
 "metadata": {
  "kernelspec": {
   "display_name": "Python 3",
   "language": "python",
   "name": "python3"
  },
  "language_info": {
   "codemirror_mode": {
    "name": "ipython",
    "version": 3
   },
   "file_extension": ".py",
   "mimetype": "text/x-python",
   "name": "python",
   "nbconvert_exporter": "python",
   "pygments_lexer": "ipython3",
   "version": "3.10.6"
  }
 },
 "nbformat": 4,
 "nbformat_minor": 2
}
